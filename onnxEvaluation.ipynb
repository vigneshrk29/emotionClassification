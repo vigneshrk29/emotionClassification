{
 "cells": [
  {
   "cell_type": "code",
   "execution_count": 15,
   "metadata": {},
   "outputs": [],
   "source": [
    "import onnx\n",
    "import onnxruntime\n",
    "from utils import loader\n",
    "import numpy as np\n",
    "\n",
    "onnx_model = onnx.load(\"FCN_outputModel.onnx\")\n",
    "onnx.checker.check_model(onnx_model)\n",
    "\n"
   ]
  },
  {
   "cell_type": "code",
   "execution_count": 16,
   "metadata": {},
   "outputs": [],
   "source": [
    "#### Adding STEP dataset###############\n",
    "\n",
    "#base_path = os.path.dirname(os.path.realpath(__file__))\n",
    "base_path = ''\n",
    "ftype = ''   ### to change for differing subparts of step dataset\n",
    "coords = 3\n",
    "joints = 16\n",
    "cycles = 1\n",
    "test_size = 0.1\n",
    "data, labels,\\\n",
    "    data_train, labels_train,\\\n",
    "    data_test, labels_test = loader.load_data(base_path, ftype, coords, joints,\n",
    "                                              cycles=cycles, test_size=test_size)\n",
    "data_train_new = np.swapaxes(data_train,1,2)\n",
    "data_test_new = np.swapaxes(data_test,1,2)\n",
    "\n",
    "\n"
   ]
  },
  {
   "cell_type": "code",
   "execution_count": 29,
   "metadata": {},
   "outputs": [
    {
     "name": "stdout",
     "output_type": "stream",
     "text": [
      "(48, 75)\n"
     ]
    }
   ],
   "source": [
    "print(data_train_new[6].shape)"
   ]
  },
  {
   "cell_type": "code",
   "execution_count": 32,
   "metadata": {},
   "outputs": [
    {
     "name": "stdout",
     "output_type": "stream",
     "text": [
      "1\n"
     ]
    }
   ],
   "source": [
    "#### Running an inference using onnx model######\n",
    "ort_session = onnxruntime.InferenceSession(\"FCN_outputModel.onnx\")\n",
    "data_to_test = data_train_new[25].astype(np.float32)\n",
    "data_to_test = np.expand_dims(data_to_test,0)\n",
    "\n",
    "def to_numpy(tensor):\n",
    "    return tensor.detach().cpu().numpy() \n",
    "\n",
    "ort_inputs = {ort_session.get_inputs()[0].name: data_to_test}\n",
    "ort_outs = ort_session.run(None, ort_inputs)\n",
    "#np.testing.assert_allclose(to_numpy(torch_out), ort_outs[0], rtol=1e-03, atol=1e-05)\n",
    "max = float('-inf')\n",
    "max_index = -1\n",
    "for i in range(0, len(ort_outs[0][0])):       \n",
    "   if(ort_outs[0][0][i] > max):    \n",
    "       max = ort_outs[0][0][i]\n",
    "       max_index = i\n",
    "print(max_index)"
   ]
  }
 ],
 "metadata": {
  "kernelspec": {
   "display_name": "base",
   "language": "python",
   "name": "python3"
  },
  "language_info": {
   "codemirror_mode": {
    "name": "ipython",
    "version": 3
   },
   "file_extension": ".py",
   "mimetype": "text/x-python",
   "name": "python",
   "nbconvert_exporter": "python",
   "pygments_lexer": "ipython3",
   "version": "3.10.9"
  },
  "orig_nbformat": 4,
  "vscode": {
   "interpreter": {
    "hash": "1051b15205586897d90bd8e7b334759201e69845f155397962c9e7b0c42a8eaf"
   }
  }
 },
 "nbformat": 4,
 "nbformat_minor": 2
}
